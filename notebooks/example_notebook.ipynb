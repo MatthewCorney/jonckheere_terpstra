{
  "nbformat": 4,
  "nbformat_minor": 0,
  "metadata": {
    "colab": {
      "private_outputs": true,
      "provenance": []
    },
    "kernelspec": {
      "name": "python3",
      "display_name": "Python 3"
    },
    "language_info": {
      "name": "python"
    }
  },
  "cells": [
    {
      "cell_type": "code",
      "source": [
        "!pip install git+https://github.com/MatthewCorney/jonckheere_terpstra.git"
      ],
      "metadata": {
        "id": "5sobarHcEWnO",
        "collapsed": true
      },
      "execution_count": null,
      "outputs": []
    },
    {
      "cell_type": "code",
      "execution_count": null,
      "metadata": {
        "id": "sc9eQar6EMka"
      },
      "outputs": [],
      "source": [
        "from jonckheere_terpstra import jonckheere_terpstra_test\n",
        "x=[0.7612, 1.5791, -0.5479, 1.4819, 0.5152, 1.2179, 1.1001, 0.9002, -0.8638, 0.0892, 0.9822, -0.5948, -0.1841, 0.9397, 1.1269, 0.8225, -0.5271, -0.7411, 1.8714, 0.6166, 0.6265, 0.4172, -0.6563, 1.1501, 0.3209, 0.3553, 1.4714, 1.3598, 1.9302, 0.0619]\n",
        "g=[1, 1, 1, 1, 1, 1, 1, 1, 1, 1, 2, 2, 2, 2, 2, 2, 2, 2, 2, 2, 3, 3, 3, 3, 3, 3, 3, 3, 3, 3]\n",
        "continuity=True\n",
        "\n",
        "jtrsum, pval, zstat=jonckheere_terpstra_test(x=x,\n",
        "                         g=g,\n",
        "                         continuity=False,\n",
        "                         alternative='two_sided')\n",
        "print(f'{jtrsum=}')\n",
        "print(f'{pval=}')\n",
        "print(f'{zstat=}')\n"
      ]
    },
    {
      "cell_type": "code",
      "source": [
        "from jonckheere_terpstra import pages_l_test\n",
        "x = [1, 20, 100, 2, 30, 120, 4, 12, 200]\n",
        "g = [1, 2, 3, 1, 2, 3, 1, 2, 3]\n",
        "s = ['S1', 'S1', 'S1', 'S2', 'S2', 'S2', 'S3', 'S3', 'S3']\n",
        "\n",
        "pval, lstat = pages_l_test(x=x,\n",
        "                         g=g,\n",
        "                         s=s,\n",
        "                         alternative='two_sided'\n",
        "                         )\n",
        "print(f'{lstat=}')\n",
        "print(f'{pval=}')"
      ],
      "metadata": {
        "id": "ayIIB7poARoM"
      },
      "execution_count": null,
      "outputs": []
    }
  ]
}